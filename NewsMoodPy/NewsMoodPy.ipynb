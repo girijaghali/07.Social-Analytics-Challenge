{
 "cells": [
  {
   "cell_type": "markdown",
   "metadata": {},
   "source": [
    "# Observed Trend:\n",
    "    1. Majority of the Tweets fall in Neutral range, which is expected as the News should be non-sentimental.\n",
    "    2. @CBS has the most negative tone for tweets, the average compund is -0.2 \n",
    "    3. @Fox has the most number of negative tweets , with compund ranging < - 0.5"
   ]
  },
  {
   "cell_type": "code",
   "execution_count": 3,
   "metadata": {
    "collapsed": true
   },
   "outputs": [],
   "source": [
    "# Dependencies\n",
    "import tweepy\n",
    "import json\n",
    "import pandas as pd\n",
    "import matplotlib.pyplot as plt\n",
    "import datetime\n",
    "import re\n",
    "import configuration as config\n",
    "\n",
    "# Import and Initialize Sentiment Analyzer\n",
    "from vaderSentiment.vaderSentiment import SentimentIntensityAnalyzer\n",
    "analyzer = SentimentIntensityAnalyzer()"
   ]
  },
  {
   "cell_type": "code",
   "execution_count": 4,
   "metadata": {},
   "outputs": [
    {
     "name": "stdout",
     "output_type": "stream",
     "text": [
      "Current date and time using strftime:\n",
      "2018-03-28\n"
     ]
    }
   ],
   "source": [
    "# Twitter API Keys\n",
    "consumer_key = config.consumer_key\n",
    "consumer_secret = config.consumer_secret\n",
    "access_token = config.access_token\n",
    "access_token_secret = config.access_token_secret\n",
    "\n",
    "now = datetime.datetime.now()\n",
    "rpt_DT = now.strftime(\"%Y-%m-%d\")\n",
    "print (\"Current date and time using strftime:\")\n",
    "print (rpt_DT)"
   ]
  },
  {
   "cell_type": "code",
   "execution_count": 16,
   "metadata": {
    "collapsed": true
   },
   "outputs": [],
   "source": [
    "# Setup Tweepy API Authentication\n",
    "auth = tweepy.OAuthHandler(consumer_key, consumer_secret)\n",
    "auth.set_access_token(access_token, access_token_secret)\n",
    "api = tweepy.API(auth, parser=tweepy.parsers.JSONParser())"
   ]
  },
  {
   "cell_type": "code",
   "execution_count": 17,
   "metadata": {
    "collapsed": true
   },
   "outputs": [],
   "source": [
    "# Target Search Term\n",
    "target_users = (\"@BBCWorld\",\"@CBSNews\",\"@CNN\",\"@FoxNews\",\"@nytimes\")\n",
    "tweets_DF = pd.DataFrame()\n",
    "\n",
    "tweets_DF['tweet#'] = \"\"\n",
    "tweets_DF['user'] = \"\"\n",
    "tweets_DF['tweet'] = \"\"\n",
    "tweets_DF['cleanTweet'] = \"\"\n",
    "tweets_DF['compound'] = \"\"\n",
    "tweets_DF['positive'] = \"\"\n",
    "tweets_DF['negative'] = \"\"\n",
    "tweets_DF['neutral'] = \"\"\n",
    "tweets_DF['cleancompound'] = \"\"\n",
    "tweets_DF['cleanpositive'] = \"\"\n",
    "tweets_DF['cleannegative'] = \"\"\n",
    "tweets_DF['cleanneutral'] = \"\"\n",
    "\n",
    "tweet_analysis = pd.DataFrame()\n",
    "cleantweet_analysis = pd.DataFrame()\n",
    "\n",
    "tweet_TXT = ''\n",
    "cleanTweet_TXT = ''\n",
    "\n",
    "# Array to hold sentiment\n",
    "sentiment_array = []\n"
   ]
  },
  {
   "cell_type": "code",
   "execution_count": 18,
   "metadata": {},
   "outputs": [
    {
     "name": "stderr",
     "output_type": "stream",
     "text": [
      "/Users/Hadoop/anaconda3/envs/PythonData1/lib/python3.6/site-packages/ipykernel/__main__.py:9: FutureWarning: set_value is deprecated and will be removed in a future release. Please use .at[] or .iat[] accessors instead\n",
      "/Users/Hadoop/anaconda3/envs/PythonData1/lib/python3.6/site-packages/ipykernel/__main__.py:10: FutureWarning: set_value is deprecated and will be removed in a future release. Please use .at[] or .iat[] accessors instead\n",
      "/Users/Hadoop/anaconda3/envs/PythonData1/lib/python3.6/site-packages/ipykernel/__main__.py:15: FutureWarning: set_value is deprecated and will be removed in a future release. Please use .at[] or .iat[] accessors instead\n",
      "/Users/Hadoop/anaconda3/envs/PythonData1/lib/python3.6/site-packages/ipykernel/__main__.py:16: FutureWarning: set_value is deprecated and will be removed in a future release. Please use .at[] or .iat[] accessors instead\n",
      "/Users/Hadoop/anaconda3/envs/PythonData1/lib/python3.6/site-packages/ipykernel/__main__.py:18: FutureWarning: set_value is deprecated and will be removed in a future release. Please use .at[] or .iat[] accessors instead\n",
      "/Users/Hadoop/anaconda3/envs/PythonData1/lib/python3.6/site-packages/ipykernel/__main__.py:19: FutureWarning: set_value is deprecated and will be removed in a future release. Please use .at[] or .iat[] accessors instead\n",
      "/Users/Hadoop/anaconda3/envs/PythonData1/lib/python3.6/site-packages/ipykernel/__main__.py:20: FutureWarning: set_value is deprecated and will be removed in a future release. Please use .at[] or .iat[] accessors instead\n",
      "/Users/Hadoop/anaconda3/envs/PythonData1/lib/python3.6/site-packages/ipykernel/__main__.py:21: FutureWarning: set_value is deprecated and will be removed in a future release. Please use .at[] or .iat[] accessors instead\n",
      "/Users/Hadoop/anaconda3/envs/PythonData1/lib/python3.6/site-packages/ipykernel/__main__.py:24: FutureWarning: set_value is deprecated and will be removed in a future release. Please use .at[] or .iat[] accessors instead\n",
      "/Users/Hadoop/anaconda3/envs/PythonData1/lib/python3.6/site-packages/ipykernel/__main__.py:25: FutureWarning: set_value is deprecated and will be removed in a future release. Please use .at[] or .iat[] accessors instead\n",
      "/Users/Hadoop/anaconda3/envs/PythonData1/lib/python3.6/site-packages/ipykernel/__main__.py:26: FutureWarning: set_value is deprecated and will be removed in a future release. Please use .at[] or .iat[] accessors instead\n",
      "/Users/Hadoop/anaconda3/envs/PythonData1/lib/python3.6/site-packages/ipykernel/__main__.py:27: FutureWarning: set_value is deprecated and will be removed in a future release. Please use .at[] or .iat[] accessors instead\n"
     ]
    }
   ],
   "source": [
    "counter = 0\n",
    "for user in target_users:\n",
    "    tweet_counter = 0\n",
    "    for x in range(5):\n",
    "        public_tweets = api.user_timeline(user , page=x)\n",
    "        #print(\"Tweet -->Compound --> Positive --> Negative --> Neutral\")\n",
    "        #print(\"=======================================================\")\n",
    "        for tweet in public_tweets:\n",
    "            tweets_DF.set_value(counter, 'tweet#', tweet_counter)\n",
    "            tweets_DF.set_value(counter, 'user', user)\n",
    "            \n",
    "            tweet_TXT = tweet[\"text\"]\n",
    "            cleanTweet_TXT  = ' '.join(re.sub(\"(@[A-Za-z0-9]+)|([^0-9A-Za-z \\t])|(\\w+:\\/\\/\\S+)\", \" \", tweet[\"text\"]).split())\n",
    "            \n",
    "            tweets_DF.set_value(counter, 'tweet', tweet_TXT)\n",
    "            tweets_DF.set_value(counter, 'cleanTweet',cleanTweet_TXT)\n",
    "            tweet_analysis = analyzer.polarity_scores(tweet_TXT)\n",
    "            tweets_DF.set_value(counter,'compound',float(tweet_analysis[\"compound\"]))\n",
    "            tweets_DF.set_value(counter,'positive',float(tweet_analysis[\"pos\"]))\n",
    "            tweets_DF.set_value(counter,'negative',float(tweet_analysis[\"neg\"]))\n",
    "            tweets_DF.set_value(counter,'neutral',float(tweet_analysis[\"neu\"]))\n",
    "            \n",
    "            cleantweet_analysis = analyzer.polarity_scores(cleanTweet_TXT)\n",
    "            tweets_DF.set_value(counter,'cleancompound',float(cleantweet_analysis[\"compound\"]))\n",
    "            tweets_DF.set_value(counter,'cleanpositive',float(cleantweet_analysis[\"pos\"]))\n",
    "            tweets_DF.set_value(counter,'cleannegative',float(cleantweet_analysis[\"neg\"]))\n",
    "            tweets_DF.set_value(counter,'cleanneutral',float(cleantweet_analysis[\"neu\"]))\n",
    "            \n",
    "            #print(tweet[\"text\"]+\" : \"\n",
    "            #print(tweet[\"text\"]+\" : \"\n",
    "             # +str(tweet_analysis[\"compound\"])+\" , \"\n",
    "             # +str(tweet_analysis[\"pos\"])+\" , \"\n",
    "             # +str(tweet_analysis[\"neg\"])+\" , \"\n",
    "             # +str(tweet_analysis[\"neu\"]))\n",
    "            counter = counter + 1\n",
    "            tweet_counter = tweet_counter + 1\n",
    "       \n"
   ]
  },
  {
   "cell_type": "code",
   "execution_count": 19,
   "metadata": {},
   "outputs": [
    {
     "data": {
      "text/html": [
       "<div>\n",
       "<style scoped>\n",
       "    .dataframe tbody tr th:only-of-type {\n",
       "        vertical-align: middle;\n",
       "    }\n",
       "\n",
       "    .dataframe tbody tr th {\n",
       "        vertical-align: top;\n",
       "    }\n",
       "\n",
       "    .dataframe thead th {\n",
       "        text-align: right;\n",
       "    }\n",
       "</style>\n",
       "<table border=\"1\" class=\"dataframe\">\n",
       "  <thead>\n",
       "    <tr style=\"text-align: right;\">\n",
       "      <th></th>\n",
       "      <th>tweet#</th>\n",
       "      <th>user</th>\n",
       "      <th>tweet</th>\n",
       "      <th>cleanTweet</th>\n",
       "      <th>compound</th>\n",
       "      <th>positive</th>\n",
       "      <th>negative</th>\n",
       "      <th>neutral</th>\n",
       "      <th>cleancompound</th>\n",
       "      <th>cleanpositive</th>\n",
       "      <th>cleannegative</th>\n",
       "      <th>cleanneutral</th>\n",
       "    </tr>\n",
       "  </thead>\n",
       "  <tbody>\n",
       "    <tr>\n",
       "      <th>0</th>\n",
       "      <td>0</td>\n",
       "      <td>@BBCWorld</td>\n",
       "      <td>Utah trooper hit by skidding car https://t.co/...</td>\n",
       "      <td>Utah trooper hit by skidding car</td>\n",
       "      <td>0</td>\n",
       "      <td>0</td>\n",
       "      <td>0</td>\n",
       "      <td>1</td>\n",
       "      <td>0</td>\n",
       "      <td>0</td>\n",
       "      <td>0</td>\n",
       "      <td>1</td>\n",
       "    </tr>\n",
       "    <tr>\n",
       "      <th>1</th>\n",
       "      <td>1</td>\n",
       "      <td>@BBCWorld</td>\n",
       "      <td>Kim in Beijing: Why Xi's still the one he need...</td>\n",
       "      <td>Kim in Beijing Why Xi s still the one he needs...</td>\n",
       "      <td>0</td>\n",
       "      <td>0</td>\n",
       "      <td>0</td>\n",
       "      <td>1</td>\n",
       "      <td>0</td>\n",
       "      <td>0</td>\n",
       "      <td>0</td>\n",
       "      <td>1</td>\n",
       "    </tr>\n",
       "    <tr>\n",
       "      <th>2</th>\n",
       "      <td>2</td>\n",
       "      <td>@BBCWorld</td>\n",
       "      <td>Trèbes attack: Paris ceremony for hero policem...</td>\n",
       "      <td>Tr bes attack Paris ceremony for hero policema...</td>\n",
       "      <td>0.128</td>\n",
       "      <td>0.245</td>\n",
       "      <td>0.211</td>\n",
       "      <td>0.544</td>\n",
       "      <td>0.128</td>\n",
       "      <td>0.245</td>\n",
       "      <td>0.211</td>\n",
       "      <td>0.544</td>\n",
       "    </tr>\n",
       "    <tr>\n",
       "      <th>3</th>\n",
       "      <td>3</td>\n",
       "      <td>@BBCWorld</td>\n",
       "      <td>Australia's indigenous languages have one sour...</td>\n",
       "      <td>Australia s indigenous languages have one sour...</td>\n",
       "      <td>0</td>\n",
       "      <td>0</td>\n",
       "      <td>0</td>\n",
       "      <td>1</td>\n",
       "      <td>0</td>\n",
       "      <td>0</td>\n",
       "      <td>0</td>\n",
       "      <td>1</td>\n",
       "    </tr>\n",
       "    <tr>\n",
       "      <th>4</th>\n",
       "      <td>4</td>\n",
       "      <td>@BBCWorld</td>\n",
       "      <td>Tesla and Nvidia shares fall amid driverless c...</td>\n",
       "      <td>Tesla and Nvidia shares fall amid driverless c...</td>\n",
       "      <td>0</td>\n",
       "      <td>0.177</td>\n",
       "      <td>0.177</td>\n",
       "      <td>0.645</td>\n",
       "      <td>0</td>\n",
       "      <td>0.193</td>\n",
       "      <td>0.193</td>\n",
       "      <td>0.614</td>\n",
       "    </tr>\n",
       "  </tbody>\n",
       "</table>\n",
       "</div>"
      ],
      "text/plain": [
       "  tweet#       user                                              tweet  \\\n",
       "0      0  @BBCWorld  Utah trooper hit by skidding car https://t.co/...   \n",
       "1      1  @BBCWorld  Kim in Beijing: Why Xi's still the one he need...   \n",
       "2      2  @BBCWorld  Trèbes attack: Paris ceremony for hero policem...   \n",
       "3      3  @BBCWorld  Australia's indigenous languages have one sour...   \n",
       "4      4  @BBCWorld  Tesla and Nvidia shares fall amid driverless c...   \n",
       "\n",
       "                                          cleanTweet compound positive  \\\n",
       "0                   Utah trooper hit by skidding car        0        0   \n",
       "1  Kim in Beijing Why Xi s still the one he needs...        0        0   \n",
       "2  Tr bes attack Paris ceremony for hero policema...    0.128    0.245   \n",
       "3  Australia s indigenous languages have one sour...        0        0   \n",
       "4  Tesla and Nvidia shares fall amid driverless c...        0    0.177   \n",
       "\n",
       "  negative neutral cleancompound cleanpositive cleannegative cleanneutral  \n",
       "0        0       1             0             0             0            1  \n",
       "1        0       1             0             0             0            1  \n",
       "2    0.211   0.544         0.128         0.245         0.211        0.544  \n",
       "3        0       1             0             0             0            1  \n",
       "4    0.177   0.645             0         0.193         0.193        0.614  "
      ]
     },
     "execution_count": 19,
     "metadata": {},
     "output_type": "execute_result"
    }
   ],
   "source": [
    "tweets_DF.to_csv(\"NewsMoodData.csv\", encoding=\"utf-8\", index=True)\n",
    "tweets_DF.head(5)"
   ]
  },
  {
   "cell_type": "code",
   "execution_count": 20,
   "metadata": {},
   "outputs": [
    {
     "data": {
      "image/png": "[encoded data removed]",
      "text/plain": [
       "<matplotlib.figure.Figure at 0x10d659828>"
      ]
     },
     "metadata": {},
     "output_type": "display_data"
    },
    {
     "data": {
      "text/plain": [
       "<matplotlib.figure.Figure at 0x107160320>"
      ]
     },
     "metadata": {},
     "output_type": "display_data"
    }
   ],
   "source": [
    "#Create datframes for each news organization\n",
    "\n",
    "BBC_PD = tweets_DF.loc[tweets_DF[\"user\"] == \"@BBCWorld\",:]\n",
    "CBS_PD = tweets_DF.loc[tweets_DF[\"user\"] == \"@CBSNews\",:]\n",
    "CNN_PD = tweets_DF.loc[tweets_DF[\"user\"] == \"@CNN\",:]\n",
    "FOX_PD = tweets_DF.loc[tweets_DF[\"user\"] == \"@FoxNews\",:]\n",
    "NYT_PD = tweets_DF.loc[tweets_DF[\"user\"] == \"@nytimes\",:]\n",
    "\n",
    "\n",
    "#create plots\n",
    "BBC_plot = plt.scatter(x=BBC_PD['tweet#'], y=BBC_PD['compound']\n",
    "                              ,marker=\"o\",c='lightblue', edgecolors=\"black\"\n",
    "                              ,alpha=0.5,label=BBC_PD[\"user\"])\n",
    "\n",
    "CBS_plot = plt.scatter(x=CBS_PD['tweet#'], y=CBS_PD['compound']\n",
    "                              ,marker=\"o\",c='green', edgecolors=\"black\"\n",
    "                              ,alpha=0.5,label=CBS_PD[\"user\"])\n",
    "\n",
    "CNN_plot = plt.scatter(x=CNN_PD['tweet#'], y=CNN_PD['compound']\n",
    "                              ,marker=\"o\",c='red', edgecolors=\"black\"\n",
    "                              ,alpha=0.5,label=CNN_PD[\"user\"])\n",
    "\n",
    "Fox_plot = plt.scatter(x=FOX_PD['tweet#'], y=FOX_PD['compound']\n",
    "                              ,marker=\"o\",c='blue', edgecolors=\"black\"\n",
    "                              ,alpha=0.5,label=FOX_PD[\"user\"])\n",
    "\n",
    "NYT_plot = plt.scatter(x=NYT_PD['tweet#'], y=NYT_PD['compound']\n",
    "                              ,marker=\"o\",c='yellow', edgecolors=\"black\"\n",
    "                              ,alpha=0.5,label=NYT_PD[\"user\"])\n",
    "\n",
    "#set plot features\n",
    "plt.axis([100, 0, -1, 1])\n",
    "plt.grid(linestyle='-', linewidth=0.5)\n",
    "plt.xlabel(\"Tweets Ago\")\n",
    "plt.ylabel(\"Tweet Polarity\")\n",
    "plt.title(\"Sentiment Analysis of Media Tweets (\" + rpt_DT + \")\")\n",
    "\n",
    "\n",
    "plt.legend(loc=9, bbox_to_anchor=(0.5, -0.1))\n",
    "plt.legend((BBC_plot, CBS_plot, CNN_plot,Fox_plot,NYT_plot),('BBC', 'CBS','CNN','Fox','New York Times'), bbox_to_anchor=(1.5, 1.0))\n",
    "\n",
    "\n",
    "plt.show()\n",
    "\n",
    "plt.savefig('SentimentAnalysis_Media_Tweets_Plot.png')\n"
   ]
  },
  {
   "cell_type": "code",
   "execution_count": 21,
   "metadata": {},
   "outputs": [
    {
     "data": {
      "image/png": "[encoded data removed]",
      "text/plain": [
       "<matplotlib.figure.Figure at 0x107282128>"
      ]
     },
     "metadata": {},
     "output_type": "display_data"
    }
   ],
   "source": [
    "tweets_Group = tweets_DF.groupby(['user'])\n",
    "tweets_compound = tweets_Group['compound'].sum()/tweets_Group['compound'].count()\n",
    "tweets_compound_DF = pd.DataFrame(tweets_compound)\n",
    "tweets_compound_DF['colors'] = ['lightblue','green','red','blue','yellow']\n",
    "tweets_compound_DF.head()\n",
    "\n",
    "tweets_compound_DF = tweets_compound_DF.reset_index()\n",
    "tweets_compound_DF.head()\n",
    "#tweets_compound_DF.plot(kind=\"bar\",alpha=0.75, align=\"center\",width=1,color=tweets_compound_DF['colors'],edgecolor='black')\n",
    "\n",
    "\n",
    "plt.bar(tweets_compound_DF['user'], tweets_compound_DF['compound'], color=tweets_compound_DF['colors']\n",
    "        , alpha=0.75, align=\"center\",width=1,edgecolor='black')\n",
    "\n",
    "plt.title(\"Overall Media Sentiment based on Twitter (\" + rpt_DT + \")\")\n",
    "plt.ylabel(\"Tweet Polarity\")\n",
    "\n",
    "\n",
    "for a in [0,1,2,3,4]:\n",
    "    plt.annotate(\n",
    "            '{:,.2f}'.format(tweets_compound_DF.iloc[a]['compound']),  # Use values formated as label\n",
    "            (a, (tweets_compound_DF.iloc[a]['compound'])/2),              # Place label at center of the bar\n",
    "            ha='center',color='black')                   # align to center\n",
    "\n",
    "plt.savefig('SentimentAnalysis_Media_Tweets_Bar.png')"
   ]
  },
  {
   "cell_type": "code",
   "execution_count": null,
   "metadata": {
    "collapsed": true
   },
   "outputs": [],
   "source": []
  }
 ],
 "metadata": {
  "kernelspec": {
   "display_name": "Python [conda env:PythonData1]",
   "language": "python",
   "name": "conda-env-PythonData1-py"
  },
  "language_info": {
   "codemirror_mode": {
    "name": "ipython",
    "version": 3
   },
   "file_extension": ".py",
   "mimetype": "text/x-python",
   "name": "python",
   "nbconvert_exporter": "python",
   "pygments_lexer": "ipython3",
   "version": "3.6.4"
  }
 },
 "nbformat": 4,
 "nbformat_minor": 2
}
